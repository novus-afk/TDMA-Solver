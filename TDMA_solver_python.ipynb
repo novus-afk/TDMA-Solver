{
  "nbformat": 4,
  "nbformat_minor": 0,
  "metadata": {
    "colab": {
      "name": "TDMA solver python.ipynb",
      "provenance": [],
      "collapsed_sections": [],
      "authorship_tag": "ABX9TyN4201J+r26lHnFqIQi2xze",
      "include_colab_link": true
    },
    "kernelspec": {
      "name": "python3",
      "display_name": "Python 3"
    },
    "language_info": {
      "name": "python"
    }
  },
  "cells": [
    {
      "cell_type": "markdown",
      "metadata": {
        "id": "view-in-github",
        "colab_type": "text"
      },
      "source": [
        "<a href=\"https://colab.research.google.com/github/novus-afk/TDMA-Solver-python/blob/master/TDMA_solver_python.ipynb\" target=\"_parent\"><img src=\"https://colab.research.google.com/assets/colab-badge.svg\" alt=\"Open In Colab\"/></a>"
      ]
    },
    {
      "cell_type": "code",
      "execution_count": null,
      "metadata": {
        "id": "-PCupcF5uFN9"
      },
      "outputs": [],
      "source": [
        "'''   Copyright 2021 MOHAMMED YAHYA ANSARI\n",
        "\n",
        "   Licensed under the Apache License, Version 2.0 (the \"License\");\n",
        "   you may not use this file except in compliance with the License.\n",
        "   You may obtain a copy of the License at\n",
        "\n",
        "       http://www.apache.org/licenses/LICENSE-2.0\n",
        "\n",
        "   Unless required by applicable law or agreed to in writing, software\n",
        "   distributed under the License is distributed on an \"AS IS\" BASIS,\n",
        "   WITHOUT WARRANTIES OR CONDITIONS OF ANY KIND, either express or implied.\n",
        "   See the License for the specific language governing permissions and\n",
        "   limitations under the License.\n",
        "'''"
      ]
    },
    {
      "cell_type": "code",
      "source": [
        "# imprt the required libraries\n",
        "import pandas as pd"
      ],
      "metadata": {
        "id": "y9cT7MeAuho_"
      },
      "execution_count": null,
      "outputs": []
    },
    {
      "cell_type": "code",
      "source": [
        "print(\"\\n \\t\\t\\t TDMA Solver\\n\")\n",
        "print(\"\\n\\tRefer the nTDMA.pdf for the general form of TriDiagonal Matrix Algorithm with n unknowns\\n\")\n",
        "n = int(input(\"\\n\\tEnter the number of unknowns (n):   \"))"
      ],
      "metadata": {
        "id": "hFDD5py8ukOW"
      },
      "execution_count": null,
      "outputs": []
    },
    {
      "cell_type": "code",
      "source": [
        "# create zeros list/array as per user input\n",
        "D = [0]*n  # diagonal element\n",
        "beta = [0]*n  # element to the left of diagonal\n",
        "alpha = [0]*n  # element to the right of diagonal\n",
        "c = [0]*n  # value of constant element\n",
        "A = [0]*n  # intermediate values\n",
        "C = [0]*n\n",
        "X = [0]*n  # final answer array"
      ],
      "metadata": {
        "id": "d8QPGVSouvJ_"
      },
      "execution_count": null,
      "outputs": []
    },
    {
      "cell_type": "code",
      "source": [
        "# input element values from user\n",
        "for i in range(0, n):\n",
        "    D[i] = float(input(\"\\n\\tEnter Diagonal {} value D{}:   \".format((i+1), (i+1))))\n",
        "print(\"\\n\")\n",
        "for i in range(0, n-1):\n",
        "    alpha[i] = float(input(\"\\n\\tEnter value of \\N{GREEK SMALL LETTER ALPHA}{}:   \" .format(i+1)))\n",
        "print(\"\\n\")\n",
        "for i in range(1, n):\n",
        "    beta[i] = float(input(\"\\n\\tEnter value of \\N{GREEK SMALL LETTER BETA}{}:   \".format(i+1)))\n",
        "print(\"\\n\")\n",
        "\n"
      ],
      "metadata": {
        "id": "9adyijRiuxtX"
      },
      "execution_count": null,
      "outputs": []
    },
    {
      "cell_type": "code",
      "source": [
        "# input value of constant from the user\n",
        "for i in range(0, n):\n",
        "    c[i] = float(input(\"\\n\\tEnter value of Constant {}:    \".format(i+1)))\n",
        "print(\"\\n\")\n",
        "beta[0] = 0  # since there is no element to the left of the diagonal so we assign 0 to the first value of beta\n",
        "alpha[n-1] = 0  # for the last diagonal element there is no element to the right so we assign 0 to the last value of alpha\n",
        "# also note that the above value is already 0 in program but to show the complete algorithm, above two lines are written\n",
        "\n"
      ],
      "metadata": {
        "id": "Byxakmk8u52n"
      },
      "execution_count": null,
      "outputs": []
    },
    {
      "cell_type": "code",
      "source": [
        "# solution, forward substitution of intermediate terms\n",
        "for i in range(0, n):\n",
        "    A[i] = alpha[i]/(D[i] - beta[i]*A[i-1])\n",
        "    C[i] = (beta[i]*C[i-1] + c[i])/(D[i] - beta[i]*A[i-1])\n",
        "\n",
        "# Calculation of final values to get the solution\n",
        "\n",
        "X[n-1] = C[n-1]  # equating the last X term for backward substitution\n",
        "j = n-2\n",
        "while j >= 0:\n",
        "    X[j] = A[j] * X[j+1] + C[j]\n",
        "    j = j-1\n",
        "\n"
      ],
      "metadata": {
        "id": "CoJV8FHfu95O"
      },
      "execution_count": null,
      "outputs": []
    },
    {
      "cell_type": "code",
      "source": [
        "#Create data for Pandas DataFrame\n",
        "OUTPUT = list(zip(beta , D , alpha , c , A , C , X))\n",
        "#create Pandas DataFrame\n",
        "result = pd.DataFrame(data = OUTPUT, columns = [\"\\N{GREEK SMALL LETTER BETA}\",\"Diagonal (D)\",\"\\N{GREEK SMALL LETTER ALPHA}\",\"Constants\",\"A\",\"C'\",\"X\" ])\n",
        "#Change index to 1,2,3,.....\n",
        "result.index = result.index + 1\n",
        "print(result)\n",
        "\n"
      ],
      "metadata": {
        "id": "no5vyTsRvZQ-"
      },
      "execution_count": null,
      "outputs": []
    },
    {
      "cell_type": "code",
      "source": [
        "#export result ot excel sheet\n",
        "export = \"\"\n",
        "while export != \"q\":\n",
        "    print(\"\\n\\n\\t[ y ] Enter y to export the table to nTDMA.xlsx\\n\\n\\t[ q ] Enter q to exit without exporting\\n\\n\")\n",
        "    export = input(\"Enter your choice :\\t\")\n",
        "\n",
        "    if (export == \"y\"):\n",
        "        result.insert(0, 'Sr.No.', range(1, 1 + len(result))) #add serial no  column at the start of the DataFrame\n",
        "        result.to_excel('nTDMA.xlsx', sheet_name = 'Output', index = False) #.to_excel to export excel file\n",
        "        print(\"\\n\\n*************** Export to nTDMA.xlsx complete. ***************\\n\\n\")\n",
        "        break\n",
        "\n",
        "    elif (export == \"q\"):\n",
        "        print(\"\\n\\n***** Result not exported to excel. *****\\n\\n\")\n",
        "        break\n",
        "    \n",
        "    else : print(\"\\n\\t\\tInvalid Choice, Try again!\")\n",
        "\n",
        "# to hold output screen\n",
        "input()"
      ],
      "metadata": {
        "id": "tw7js59FvhF2"
      },
      "execution_count": null,
      "outputs": []
    }
  ]
}