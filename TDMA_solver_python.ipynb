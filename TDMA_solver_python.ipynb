{
  "nbformat": 4,
  "nbformat_minor": 0,
  "metadata": {
    "colab": {
      "provenance": [],
      "collapsed_sections": [],
      "authorship_tag": "ABX9TyM2aV2hyuFDyTuQA3KayQST",
      "include_colab_link": true
    },
    "kernelspec": {
      "name": "python3",
      "display_name": "Python 3"
    },
    "language_info": {
      "name": "python"
    }
  },
  "cells": [
    {
      "cell_type": "markdown",
      "metadata": {
        "id": "view-in-github",
        "colab_type": "text"
      },
      "source": [
        "<a href=\"https://colab.research.google.com/github/novus-afk/TDMA-Solver-python/blob/master/TDMA_solver_python.ipynb\" target=\"_parent\"><img src=\"https://colab.research.google.com/assets/colab-badge.svg\" alt=\"Open In Colab\"/></a>"
      ]
    },
    {
      "cell_type": "code",
      "execution_count": null,
      "metadata": {
        "id": "-PCupcF5uFN9"
      },
      "outputs": [],
      "source": [
        "'''   Copyright 2021 MOHAMMED YAHYA ANSARI\n",
        "\n",
        "   Licensed under the Apache License, Version 2.0 (the \"License\");\n",
        "   you may not use this file except in compliance with the License.\n",
        "   You may obtain a copy of the License at\n",
        "\n",
        "       http://www.apache.org/licenses/LICENSE-2.0\n",
        "\n",
        "   Unless required by applicable law or agreed to in writing, software\n",
        "   distributed under the License is distributed on an \"AS IS\" BASIS,\n",
        "   WITHOUT WARRANTIES OR CONDITIONS OF ANY KIND, either express or implied.\n",
        "   See the License for the specific language governing permissions and\n",
        "   limitations under the License.\n",
        "'''"
      ]
    },
    {
      "cell_type": "code",
      "source": [
        "# imprt the required libraries\n",
        "import pandas as pd"
      ],
      "metadata": {
        "id": "y9cT7MeAuho_"
      },
      "execution_count": null,
      "outputs": []
    },
    {
      "cell_type": "code",
      "source": [
        "print(\"\\n \\t\\t\\t TDMA Solver\\n\")\n",
        "print(\"\\n\\tRefer the nTDMA.pdf for the general form of TriDiagonal Matrix Algorithm with n unknowns\\n\")\n",
        "n = int(input(\"\\n\\tEnter the number of unknowns (n):   \"))"
      ],
      "metadata": {
        "id": "hFDD5py8ukOW",
        "colab": {
          "base_uri": "https://localhost:8080/"
        },
        "outputId": "8c5df4ab-a84f-42b9-9e97-3aac6c4fbd44"
      },
      "execution_count": null,
      "outputs": [
        {
          "name": "stdout",
          "output_type": "stream",
          "text": [
            "\n",
            " \t\t\t TDMA Solver\n",
            "\n",
            "\n",
            "\tRefer the nTDMA.pdf for the general form of TriDiagonal Matrix Algorithm with n unknowns\n",
            "\n",
            "\n",
            "\tEnter the number of unknowns (n):   5\n"
          ]
        }
      ]
    },
    {
      "cell_type": "code",
      "source": [
        "# create zeros list/array as per user input\n",
        "D = [0]*n  # diagonal element\n",
        "beta = [0]*n  # element to the left of diagonal\n",
        "alpha = [0]*n  # element to the right of diagonal\n",
        "c = [0]*n  # value of constant element\n",
        "A = [0]*n  # intermediate values\n",
        "C = [0]*n\n",
        "X = [0]*n  # final answer array"
      ],
      "metadata": {
        "id": "d8QPGVSouvJ_"
      },
      "execution_count": null,
      "outputs": []
    },
    {
      "cell_type": "code",
      "source": [
        "5# input element values from user\n",
        "for i in range(0, n):\n",
        "    D[i] = float(input(\"\\n\\tEnter Diagonal {} value D{}:   \".format((i+1), (i+1))))\n",
        "print(\"\\n\")\n",
        "for i in range(0, n-1):\n",
        "    alpha[i] = float(input(\"\\n\\tEnter value of \\N{GREEK SMALL LETTER ALPHA}{}:   \" .format(i+1)))\n",
        "print(\"\\n\")\n",
        "for i in range(1, n):\n",
        "    beta[i] = float(input(\"\\n\\tEnter value of \\N{GREEK SMALL LETTER BETA}{}:   \".format(i+1)))\n",
        "print(\"\\n\")"
      ],
      "metadata": {
        "id": "9adyijRiuxtX",
        "colab": {
          "base_uri": "https://localhost:8080/"
        },
        "outputId": "9e513bde-6990-4630-85bc-4d8fa6ca9b14"
      },
      "execution_count": null,
      "outputs": [
        {
          "output_type": "stream",
          "name": "stdout",
          "text": [
            "\n",
            "\tEnter Diagonal 1 value D1:   20\n",
            "\n",
            "\tEnter Diagonal 2 value D2:   15\n",
            "\n",
            "\tEnter Diagonal 3 value D3:   15\n",
            "\n",
            "\tEnter Diagonal 4 value D4:   15\n",
            "\n",
            "\tEnter Diagonal 5 value D5:   10\n",
            "\n",
            "\n",
            "\n",
            "\tEnter value of α1:   5\n",
            "\n",
            "\tEnter value of α2:   5\n",
            "\n",
            "\tEnter value of α3:   5\n",
            "\n",
            "\tEnter value of α4:   5\n",
            "\n",
            "\n",
            "\n",
            "\tEnter value of β2:   5\n",
            "\n",
            "\tEnter value of β3:   5\n",
            "\n",
            "\tEnter value of β4:   5\n",
            "\n",
            "\tEnter value of β5:   5\n",
            "\n",
            "\n"
          ]
        }
      ]
    },
    {
      "cell_type": "code",
      "source": [
        "1# input value of constant from the user\n",
        "for i in range(0, n):\n",
        "    c[i] = float(input(\"\\n\\tEnter value of Constant {}:    \".format(i+1)))\n",
        "print(\"\\n\")\n",
        "beta[0] = 0  # since there is no element to the left of the diagonal so we assign 0 to the first value of beta\n",
        "alpha[n-1] = 0  # for the last diagonal element there is no element to the right so we assign 0 to the last value of alpha\n",
        "# also note that the above value is already 0 in program but to show the complete algorithm, above two lines are written"
      ],
      "metadata": {
        "id": "Byxakmk8u52n",
        "colab": {
          "base_uri": "https://localhost:8080/"
        },
        "outputId": "fa8ac895-9083-477c-82ee-234250b94df0"
      },
      "execution_count": null,
      "outputs": [
        {
          "output_type": "stream",
          "name": "stdout",
          "text": [
            "\n",
            "\tEnter value of Constant 1:    1100\n",
            "\n",
            "\tEnter value of Constant 2:    100\n",
            "\n",
            "\tEnter value of Constant 3:    100\n",
            "\n",
            "\tEnter value of Constant 4:    100\n",
            "\n",
            "\tEnter value of Constant 5:    100\n",
            "\n",
            "\n"
          ]
        }
      ]
    },
    {
      "cell_type": "code",
      "source": [
        "# solution, forward substitution of intermediate terms\n",
        "for i in range(0, n):\n",
        "    A[i] = alpha[i]/(D[i] - beta[i]*A[i-1])\n",
        "    C[i] = (beta[i]*C[i-1] + c[i])/(D[i] - beta[i]*A[i-1])\n",
        "\n",
        "# Calculation of final values to get the solution\n",
        "\n",
        "X[n-1] = C[n-1]  # equating the last X term for backward substitution\n",
        "j = n-2\n",
        "while j >= 0:\n",
        "    X[j] = A[j] * X[j+1] + C[j]\n",
        "    j = j-1"
      ],
      "metadata": {
        "id": "CoJV8FHfu95O"
      },
      "execution_count": null,
      "outputs": []
    },
    {
      "cell_type": "code",
      "source": [
        "#Create data for Pandas DataFrame\n",
        "OUTPUT = list(zip(beta , D , alpha , c , A , C , X))\n",
        "#create Pandas DataFrame\n",
        "result = pd.DataFrame(data = OUTPUT, columns = [\"\\N{GREEK SMALL LETTER BETA}\",\"Diagonal (D)\",\"\\N{GREEK SMALL LETTER ALPHA}\",\"Constants\",\"A\",\"C'\",\"X\" ])\n",
        "#Change index to 1,2,3,.....\n",
        "result.index = result.index + 1\n",
        "print(result)"
      ],
      "metadata": {
        "id": "no5vyTsRvZQ-",
        "colab": {
          "base_uri": "https://localhost:8080/"
        },
        "outputId": "1fbe715b-3360-4836-a6ee-424b87dd21b2"
      },
      "execution_count": null,
      "outputs": [
        {
          "output_type": "stream",
          "name": "stdout",
          "text": [
            "     β  Diagonal (D)    α  Constants         A         C'          X\n",
            "1  0.0          20.0  5.0     1100.0  0.250000  55.000000  64.227642\n",
            "2  5.0          15.0  5.0      100.0  0.363636  27.272727  36.910569\n",
            "3  5.0          15.0  5.0      100.0  0.379310  17.931034  26.504065\n",
            "4  5.0          15.0  5.0      100.0  0.381579  14.473684  22.601626\n",
            "5  5.0          10.0  0.0      100.0  0.000000  21.300813  21.300813\n"
          ]
        }
      ]
    },
    {
      "cell_type": "code",
      "source": [
        "'''\n",
        "\n",
        "#export result ot excel sheet\n",
        "export = \"\"\n",
        "while export != \"q\":\n",
        "    print(\"\\n\\n\\t[ y ] Enter y to export the table to nTDMA.xlsx\\n\\n\\t[ q ] Enter q to exit without exporting\\n\\n\")\n",
        "    export = input(\"Enter your choice :\\t\")\n",
        "\n",
        "    if (export == \"y\"):\n",
        "        result.insert(0, 'Sr.No.', range(1, 1 + len(result))) #add serial no  column at the start of the DataFrame\n",
        "        result.to_excel('nTDMA.xlsx', sheet_name = 'Output', index = False) #.to_excel to export excel file\n",
        "        print(\"\\n\\n*************** Export to nTDMA.xlsx complete. ***************\\n\\n\")\n",
        "        break\n",
        "\n",
        "    elif (export == \"q\"):\n",
        "        print(\"\\n\\n***** Result not exported to excel. *****\\n\\n\")\n",
        "        break\n",
        "    \n",
        "    else : print(\"\\n\\t\\tInvalid Choice, Try again!\")\n",
        "\n",
        "# to hold output screen\n",
        "# input()\n",
        "\n",
        "'''"
      ],
      "metadata": {
        "id": "tw7js59FvhF2"
      },
      "execution_count": null,
      "outputs": []
    }
  ]
}